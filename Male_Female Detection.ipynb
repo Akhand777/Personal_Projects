{
 "cells": [
  {
   "cell_type": "code",
   "execution_count": 14,
   "id": "0596dc7f",
   "metadata": {},
   "outputs": [],
   "source": [
    "import cv2\n",
    "import os"
   ]
  },
  {
   "cell_type": "code",
   "execution_count": 15,
   "id": "454de572",
   "metadata": {},
   "outputs": [],
   "source": [
    "X= []\n",
    "y= []\n",
    "\n",
    "names= os.listdir(\"D:/dataset/gender_training/train/male/\")\n",
    "for name in names:\n",
    "    img= cv2.imread(f\"D:/dataset/gender_training/train/male/{name}\")\n",
    "    gray = cv2.cvtColor(img, cv2.COLOR_BGR2GRAY)\n",
    "    gray = cv2.resize(gray, (90,90))\n",
    "    gray_1d = gray.flatten()\n",
    "    gray_1d = gray_1d/255\n",
    "    X.append(gray_1d)\n",
    "    y.append('Male')\n",
    "    \n",
    "\n",
    "names= os.listdir(\"D:/dataset/gender_training/train/female/\")\n",
    "for name in names:\n",
    "    img= cv2.imread(f\"D:/dataset/gender_training/train/female/{name}\")\n",
    "    gray = cv2.cvtColor(img, cv2.COLOR_BGR2GRAY)\n",
    "    gray = cv2.resize(gray, (90,90))\n",
    "    gray_1d = gray.flatten()\n",
    "    gray_1d = gray_1d/255\n",
    "    X.append(gray_1d)\n",
    "    y.append('Female')"
   ]
  },
  {
   "cell_type": "code",
   "execution_count": 16,
   "id": "1484f0c9",
   "metadata": {},
   "outputs": [],
   "source": [
    "import numpy as np"
   ]
  },
  {
   "cell_type": "code",
   "execution_count": 17,
   "id": "09fda60a",
   "metadata": {},
   "outputs": [
    {
     "data": {
      "text/plain": [
       "(300, 8100)"
      ]
     },
     "execution_count": 17,
     "metadata": {},
     "output_type": "execute_result"
    }
   ],
   "source": [
    "np.shape(X)"
   ]
  },
  {
   "cell_type": "code",
   "execution_count": 18,
   "id": "aa0e7e47",
   "metadata": {},
   "outputs": [],
   "source": [
    "from sklearn.linear_model import LogisticRegression"
   ]
  },
  {
   "cell_type": "code",
   "execution_count": 19,
   "id": "fb1f7957",
   "metadata": {},
   "outputs": [
    {
     "data": {
      "text/plain": [
       "LogisticRegression(max_iter=1000)"
      ]
     },
     "execution_count": 19,
     "metadata": {},
     "output_type": "execute_result"
    }
   ],
   "source": [
    "model=LogisticRegression(max_iter=1000)\n",
    "model.fit(X,y)"
   ]
  },
  {
   "cell_type": "code",
   "execution_count": 21,
   "id": "a7580c8e",
   "metadata": {},
   "outputs": [
    {
     "data": {
      "text/plain": [
       "array(['Male'], dtype='<U6')"
      ]
     },
     "execution_count": 21,
     "metadata": {},
     "output_type": "execute_result"
    }
   ],
   "source": [
    "X_test=[]\n",
    "\n",
    "face_model=cv2.CascadeClassifier(\"haarcascade_frontalface_default.xml\")\n",
    "img=cv2.imread(\"D:/Myimages/1.png\")\n",
    "gray=cv2.cvtColor(img, cv2.COLOR_BGR2GRAY)\n",
    "faces= face_model.detectMultiScale(gray)\n",
    "\n",
    "for x,y,w,h in faces:\n",
    "    face=gray[x:x+h, y:y+w]\n",
    "    gray=cv2.resize(face,(90,90))\n",
    "    gray_1d=gray.flatten()\n",
    "    gray_1d=gray_1d/255\n",
    "    X_test.append(gray_1d)\n",
    "    \n",
    "model.predict(X_test)"
   ]
  },
  {
   "cell_type": "code",
   "execution_count": null,
   "id": "fc222bd8",
   "metadata": {},
   "outputs": [],
   "source": []
  }
 ],
 "metadata": {
  "kernelspec": {
   "display_name": "Python 3 (ipykernel)",
   "language": "python",
   "name": "python3"
  },
  "language_info": {
   "codemirror_mode": {
    "name": "ipython",
    "version": 3
   },
   "file_extension": ".py",
   "mimetype": "text/x-python",
   "name": "python",
   "nbconvert_exporter": "python",
   "pygments_lexer": "ipython3",
   "version": "3.9.12"
  }
 },
 "nbformat": 4,
 "nbformat_minor": 5
}
