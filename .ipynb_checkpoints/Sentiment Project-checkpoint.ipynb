{
 "cells": [
  {
   "cell_type": "code",
   "execution_count": 8,
   "id": "47cb8ead",
   "metadata": {},
   "outputs": [],
   "source": [
    "import pandas as pd\n",
    "import re\n",
    "from sklearn.feature_extraction.text import ENGLISH_STOP_WORDS\n",
    "from sklearn.feature_extraction.text import CountVectorizer\n",
    "from sklearn.linear_model import ogisticRegressionL\n",
    "from sklearn.ensemble import RandomForestClassifier, AdaBoostClassifier"
   ]
  },
  {
   "cell_type": "code",
   "execution_count": 9,
   "id": "fc69ae26",
   "metadata": {},
   "outputs": [
    {
     "data": {
      "text/html": [
       "<div>\n",
       "<style scoped>\n",
       "    .dataframe tbody tr th:only-of-type {\n",
       "        vertical-align: middle;\n",
       "    }\n",
       "\n",
       "    .dataframe tbody tr th {\n",
       "        vertical-align: top;\n",
       "    }\n",
       "\n",
       "    .dataframe thead th {\n",
       "        text-align: right;\n",
       "    }\n",
       "</style>\n",
       "<table border=\"1\" class=\"dataframe\">\n",
       "  <thead>\n",
       "    <tr style=\"text-align: right;\">\n",
       "      <th></th>\n",
       "      <th>Review</th>\n",
       "      <th>Liked</th>\n",
       "    </tr>\n",
       "  </thead>\n",
       "  <tbody>\n",
       "    <tr>\n",
       "      <th>0</th>\n",
       "      <td>Wow... Loved this place.</td>\n",
       "      <td>1</td>\n",
       "    </tr>\n",
       "    <tr>\n",
       "      <th>1</th>\n",
       "      <td>Crust is not good.</td>\n",
       "      <td>0</td>\n",
       "    </tr>\n",
       "    <tr>\n",
       "      <th>2</th>\n",
       "      <td>Not tasty and the texture was just nasty.</td>\n",
       "      <td>0</td>\n",
       "    </tr>\n",
       "    <tr>\n",
       "      <th>3</th>\n",
       "      <td>Stopped by during the late May bank holiday of...</td>\n",
       "      <td>1</td>\n",
       "    </tr>\n",
       "    <tr>\n",
       "      <th>4</th>\n",
       "      <td>The selection on the menu was great and so wer...</td>\n",
       "      <td>1</td>\n",
       "    </tr>\n",
       "  </tbody>\n",
       "</table>\n",
       "</div>"
      ],
      "text/plain": [
       "                                              Review  Liked\n",
       "0                           Wow... Loved this place.      1\n",
       "1                                 Crust is not good.      0\n",
       "2          Not tasty and the texture was just nasty.      0\n",
       "3  Stopped by during the late May bank holiday of...      1\n",
       "4  The selection on the menu was great and so wer...      1"
      ]
     },
     "execution_count": 9,
     "metadata": {},
     "output_type": "execute_result"
    }
   ],
   "source": [
    "df= pd.read_csv(\"D:/dataset/sentiment/Restaurant_Reviews.txt\", sep=\"\\t\")\n",
    "df.head()"
   ]
  },
  {
   "cell_type": "code",
   "execution_count": 10,
   "id": "36e47121",
   "metadata": {},
   "outputs": [],
   "source": [
    "# load Dataset\n",
    "df= pd.read_csv(\"D:/dataset/sentiment/Restaurant_Reviews.txt\", sep=\"\\t\")\n",
    "\n",
    "# define Feature and Target\n",
    "corpus = df['Review']\n",
    "target = df['Liked']"
   ]
  },
  {
   "cell_type": "code",
   "execution_count": 11,
   "id": "5dd3d6ee",
   "metadata": {},
   "outputs": [
    {
     "data": {
      "text/plain": [
       "AdaBoostClassifier()"
      ]
     },
     "execution_count": 11,
     "metadata": {},
     "output_type": "execute_result"
    }
   ],
   "source": [
    "spwords = list(ENGLISH_STOP_WORDS)\n",
    "spwords.remove(\"not\")\n",
    "\n",
    "def cleaning(feature):\n",
    "    feature=feature.lower()\n",
    "    new_feaure= re.sub('[^ a-zA-Z\\s]', '', feature)\n",
    "    wordslist= feature.split()\n",
    "    new_feaure=\"\"\n",
    "    for word in wordslist:\n",
    "        if word not in spwords:\n",
    "            new_feaure= new_feaure+word+\" \"\n",
    "    return new_feaure\n",
    "\n",
    "corpus_new= list(map(cleaning,corpus))\n",
    "cv= CountVectorizer()\n",
    "X= cv.fit_transform(corpus_new).toarray()\n",
    "model= AdaBoostClassifier()\n",
    "model.fit(X,target)"
   ]
  },
  {
   "cell_type": "code",
   "execution_count": 12,
   "id": "2361bfa9",
   "metadata": {},
   "outputs": [
    {
     "name": "stdout",
     "output_type": "stream",
     "text": [
      "[1 0]\n",
      "[[0.48921891 0.51078109]\n",
      " [0.67392103 0.32607897]]\n"
     ]
    }
   ],
   "source": [
    "sample1= \"the place is very good\"\n",
    "sample2= \"food quality is very bad\"\n",
    "corpus_test=[sample1,sample2]\n",
    "corpus_test_new= list(map(cleaning,corpus_test))\n",
    "X_test=cv.transform(corpus_test_new)\n",
    "print(model.predict(X_test))\n",
    "print(model.predict_proba(X_test))"
   ]
  },
  {
   "cell_type": "markdown",
   "id": "e442a11f",
   "metadata": {},
   "source": [
    "# Whole code in one cell"
   ]
  },
  {
   "cell_type": "code",
   "execution_count": 5,
   "id": "d942fe6a",
   "metadata": {},
   "outputs": [
    {
     "name": "stdout",
     "output_type": "stream",
     "text": [
      "[1 0]\n",
      "[[0.48921891 0.51078109]\n",
      " [0.67392103 0.32607897]]\n"
     ]
    }
   ],
   "source": [
    "import pandas as pd\n",
    "import re\n",
    "from sklearn.feature_extraction.text import ENGLISH_STOP_WORDS\n",
    "from sklearn.feature_extraction.text import CountVectorizer\n",
    "from sklearn.linear_model import LogisticRegression\n",
    "from sklearn.ensemble import RandomForestClassifier, AdaBoostClassifier\n",
    "\n",
    "\n",
    "\n",
    "# load Dataset\n",
    "df= pd.read_csv(\"D:/dataset/sentiment/Restaurant_Reviews.txt\", sep=\"\\t\")\n",
    "\n",
    "# define Feature and Target\n",
    "corpus = df['Review'].tolist()\n",
    "target = df['Liked'].tolist()\n",
    "\n",
    "\n",
    "spwords = list(ENGLISH_STOP_WORDS)\n",
    "spwords.remove(\"not\")\n",
    "\n",
    "def cleaning(feature):\n",
    "    feature=feature.lower()\n",
    "    new_feaure= re.sub('[^ a-zA-Z\\s]', '', feature)\n",
    "    wordslist= feature.split()\n",
    "    new_feaure=\"\"\n",
    "    for word in wordslist:\n",
    "        if word not in spwords:\n",
    "            new_feaure= new_feaure+word+\" \"\n",
    "    return new_feaure\n",
    "\n",
    "corpus_new= list(map(cleaning,corpus))\n",
    "cv= CountVectorizer()\n",
    "X= cv.fit_transform(corpus_new).toarray()\n",
    "model= AdaBoostClassifier()\n",
    "model.fit(X,target)\n",
    "\n",
    "\n",
    "sample1= \"the place is very good\"\n",
    "sample2= \"food quality is very bad\"\n",
    "corpus_test=[sample1,sample2]\n",
    "corpus_test_new= list(map(cleaning,corpus_test))\n",
    "X_test=cv.transform(corpus_test_new)\n",
    "print(model.predict(X_test))\n",
    "print(model.predict_proba(X_test))"
   ]
  },
  {
   "cell_type": "code",
   "execution_count": 1,
   "id": "7a105253",
   "metadata": {},
   "outputs": [
    {
     "name": "stderr",
     "output_type": "stream",
     "text": [
      "C:\\ProgramData\\Anaconda3\\lib\\site-packages\\scipy\\__init__.py:146: UserWarning: A NumPy version >=1.16.5 and <1.23.0 is required for this version of SciPy (detected version 1.26.2\n",
      "  warnings.warn(f\"A NumPy version >={np_minversion} and <{np_maxversion}\"\n"
     ]
    },
    {
     "name": "stdout",
     "output_type": "stream",
     "text": [
      "enter your reivew : the quality of food is good\n",
      "Postive Reivew\n",
      "[[0.19704611 0.80295389]]\n"
     ]
    }
   ],
   "source": [
    "import pandas as pd\n",
    "import re\n",
    "from sklearn.feature_extraction.text import ENGLISH_STOP_WORDS\n",
    "from sklearn.feature_extraction.text import CountVectorizer\n",
    "from sklearn.linear_model import LogisticRegression\n",
    "\n",
    "\n",
    "# load Dataset\n",
    "df= pd.read_csv(\"D:/dataset/sentiment/Restaurant_Reviews.txt\", sep=\"\\t\")\n",
    "\n",
    "# define Feature and Target\n",
    "corpus = df['Review']\n",
    "target = df['Liked']\n",
    "\n",
    "spwords = list(ENGLISH_STOP_WORDS)\n",
    "spwords.remove(\"not\")\n",
    "\n",
    "def cleaning(feature):\n",
    "    feature=feature.lower()\n",
    "    new_feaure= re.sub('[^ a-zA-Z\\s]', '', feature)\n",
    "    wordslist= feature.split()\n",
    "    new_feaure=\"\"\n",
    "    for word in wordslist:\n",
    "        if word not in spwords:\n",
    "            new_feaure= new_feaure+word+\" \"\n",
    "    return new_feaure\n",
    "\n",
    "corpus_new= list(map(cleaning,corpus))\n",
    "cv= CountVectorizer()\n",
    "X= cv.fit_transform(corpus_new).toarray()\n",
    "model= LogisticRegression()\n",
    "model.fit(X,target)\n",
    "\n",
    "\n",
    "sample=input(\"enter your reivew : \")\n",
    "corpus_test=[sample]\n",
    "corpus_test_new= list(map(cleaning,corpus_test))\n",
    "X_test=cv.transform(corpus_test_new)\n",
    "sentiment=model.predict(X_test)\n",
    "if sentiment==1:\n",
    "    print(\"Postive Reivew\")\n",
    "else:\n",
    "    print(\"Negative Reivew\")\n",
    "\n",
    "print(model.predict_proba(X_test))"
   ]
  },
  {
   "cell_type": "code",
   "execution_count": 43,
   "id": "6ee7625e",
   "metadata": {},
   "outputs": [],
   "source": [
    "import nltk"
   ]
  },
  {
   "cell_type": "code",
   "execution_count": 45,
   "id": "59e7ea39",
   "metadata": {},
   "outputs": [
    {
     "name": "stdout",
     "output_type": "stream",
     "text": [
      "showing info https://raw.githubusercontent.com/nltk/nltk_data/gh-pages/index.xml\n"
     ]
    },
    {
     "data": {
      "text/plain": [
       "True"
      ]
     },
     "execution_count": 45,
     "metadata": {},
     "output_type": "execute_result"
    }
   ],
   "source": [
    "nltk.download()"
   ]
  },
  {
   "cell_type": "code",
   "execution_count": null,
   "id": "2acdf049",
   "metadata": {},
   "outputs": [],
   "source": []
  }
 ],
 "metadata": {
  "kernelspec": {
   "display_name": "Python 3 (ipykernel)",
   "language": "python",
   "name": "python3"
  },
  "language_info": {
   "codemirror_mode": {
    "name": "ipython",
    "version": 3
   },
   "file_extension": ".py",
   "mimetype": "text/x-python",
   "name": "python",
   "nbconvert_exporter": "python",
   "pygments_lexer": "ipython3",
   "version": "3.9.12"
  }
 },
 "nbformat": 4,
 "nbformat_minor": 5
}
